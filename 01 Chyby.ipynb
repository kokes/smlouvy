{
 "cells": [
  {
   "cell_type": "markdown",
   "metadata": {},
   "source": [
    "# Registr smluv - čištění dat\n",
    "Data jsme už stáhli, velmi mírně pročistili, nyní se můžeme podívat, jak ona data vypadají, respektive jaké chyby v nich najdeme."
   ]
  },
  {
   "cell_type": "code",
   "execution_count": 1,
   "metadata": {
    "collapsed": true
   },
   "outputs": [],
   "source": [
    "import pandas as pd\n",
    "import numpy as np\n",
    "%matplotlib inline\n",
    "import os"
   ]
  },
  {
   "cell_type": "markdown",
   "metadata": {},
   "source": [
    "## Načítání dat"
   ]
  },
  {
   "cell_type": "code",
   "execution_count": 2,
   "metadata": {
    "collapsed": true
   },
   "outputs": [],
   "source": [
    "vstupy = 'vstupy'"
   ]
  },
  {
   "cell_type": "code",
   "execution_count": 3,
   "metadata": {
    "collapsed": true
   },
   "outputs": [],
   "source": [
    "sml = pd.read_csv(os.path.join(vstupy, 'smlouvy.csv'))\n",
    "sstr = pd.read_csv(os.path.join(vstupy, 'smluvni_strany.csv'))"
   ]
  },
  {
   "cell_type": "code",
   "execution_count": 4,
   "metadata": {
    "collapsed": false
   },
   "outputs": [],
   "source": [
    "sml.uzavreni = pd.to_datetime(sml.uzavreni)\n",
    "sml.zverejneni = pd.to_datetime(sml.zverejneni)"
   ]
  },
  {
   "cell_type": "markdown",
   "metadata": {},
   "source": [
    "### Odstranění starých verzí z dat\n",
    "Každá smlouva může mít více verzí, my ty staré nemažeme při stahování, odstraníme je až tady."
   ]
  },
  {
   "cell_type": "code",
   "execution_count": 5,
   "metadata": {
    "collapsed": false
   },
   "outputs": [],
   "source": [
    "sml = sml.loc[sml.idver == sml.groupby('idsml')['idver'].transform(max)]"
   ]
  },
  {
   "cell_type": "code",
   "execution_count": 6,
   "metadata": {
    "collapsed": true
   },
   "outputs": [],
   "source": [
    "uver = set(sml.idver.tolist()) # unikatni verze"
   ]
  },
  {
   "cell_type": "code",
   "execution_count": 7,
   "metadata": {
    "collapsed": false
   },
   "outputs": [],
   "source": [
    "sstr = sstr.loc[[True if j in uver else False for j in sstr.idver]]"
   ]
  },
  {
   "cell_type": "code",
   "execution_count": null,
   "metadata": {
    "collapsed": true
   },
   "outputs": [],
   "source": []
  },
  {
   "cell_type": "markdown",
   "metadata": {},
   "source": [
    "## Počty\n",
    "\n",
    "2200+ smluv"
   ]
  },
  {
   "cell_type": "code",
   "execution_count": 8,
   "metadata": {
    "collapsed": false
   },
   "outputs": [
    {
     "data": {
      "text/plain": [
       "(2257, 12)"
      ]
     },
     "execution_count": 8,
     "metadata": {},
     "output_type": "execute_result"
    }
   ],
   "source": [
    "sml.shape"
   ]
  },
  {
   "cell_type": "markdown",
   "metadata": {},
   "source": [
    "Ve `sstr` máme smluvní strany (nikoliv však nákupčího). Mělo by tam být tedy více řádek než počet smluv. Bohužel tomu tak není, protože často druhá smluvní strana chybí."
   ]
  },
  {
   "cell_type": "code",
   "execution_count": 9,
   "metadata": {
    "collapsed": false
   },
   "outputs": [
    {
     "data": {
      "text/plain": [
       "(2240, 4)"
      ]
     },
     "execution_count": 9,
     "metadata": {},
     "output_type": "execute_result"
    }
   ],
   "source": [
    "sstr.shape"
   ]
  },
  {
   "cell_type": "markdown",
   "metadata": {},
   "source": [
    "Dostaneme se k tomu níže."
   ]
  },
  {
   "cell_type": "markdown",
   "metadata": {},
   "source": [
    "## Ceny\n",
    "U smlouvy je možné uvést tři různé ceny - bez DPH, s DPH a cenu v cizí měně. Začněme to poslední možností."
   ]
  },
  {
   "cell_type": "markdown",
   "metadata": {},
   "source": [
    "### Zahraniční ceny"
   ]
  },
  {
   "cell_type": "code",
   "execution_count": 10,
   "metadata": {
    "collapsed": false
   },
   "outputs": [
    {
     "data": {
      "text/plain": [
       "(10, 12)"
      ]
     },
     "execution_count": 10,
     "metadata": {},
     "output_type": "execute_result"
    }
   ],
   "source": [
    "sml.loc[~sml.cena_cizi.isnull()].shape"
   ]
  },
  {
   "cell_type": "markdown",
   "metadata": {},
   "source": [
    "10 smluv má cizí měnu, ale..."
   ]
  },
  {
   "cell_type": "code",
   "execution_count": 11,
   "metadata": {
    "collapsed": false
   },
   "outputs": [
    {
     "data": {
      "text/plain": [
       "CZK    5\n",
       "EUR    5\n",
       "Name: cena_cizi_mena, dtype: int64"
      ]
     },
     "execution_count": 11,
     "metadata": {},
     "output_type": "execute_result"
    }
   ],
   "source": [
    "sml.cena_cizi_mena.value_counts()"
   ]
  },
  {
   "cell_type": "markdown",
   "metadata": {},
   "source": [
    "...polovina z nich jsou ceny v korunách, což je chyba, protože cena těchto smluv je správně uvedená v kolonkách pro cenu s/bez DPH a pak jako cizí měna je uvedeno \"0 CZK\""
   ]
  },
  {
   "cell_type": "code",
   "execution_count": 12,
   "metadata": {
    "collapsed": false
   },
   "outputs": [
    {
     "data": {
      "text/html": [
       "<div>\n",
       "<table border=\"1\" class=\"dataframe\">\n",
       "  <thead>\n",
       "    <tr style=\"text-align: right;\">\n",
       "      <th></th>\n",
       "      <th>cena_cizi</th>\n",
       "      <th>cena_cizi_mena</th>\n",
       "    </tr>\n",
       "  </thead>\n",
       "  <tbody>\n",
       "    <tr>\n",
       "      <th>758</th>\n",
       "      <td>0.0</td>\n",
       "      <td>CZK</td>\n",
       "    </tr>\n",
       "    <tr>\n",
       "      <th>1137</th>\n",
       "      <td>0.0</td>\n",
       "      <td>CZK</td>\n",
       "    </tr>\n",
       "    <tr>\n",
       "      <th>1402</th>\n",
       "      <td>0.0</td>\n",
       "      <td>CZK</td>\n",
       "    </tr>\n",
       "    <tr>\n",
       "      <th>1715</th>\n",
       "      <td>0.0</td>\n",
       "      <td>CZK</td>\n",
       "    </tr>\n",
       "    <tr>\n",
       "      <th>2311</th>\n",
       "      <td>0.0</td>\n",
       "      <td>CZK</td>\n",
       "    </tr>\n",
       "  </tbody>\n",
       "</table>\n",
       "</div>"
      ],
      "text/plain": [
       "      cena_cizi cena_cizi_mena\n",
       "758         0.0            CZK\n",
       "1137        0.0            CZK\n",
       "1402        0.0            CZK\n",
       "1715        0.0            CZK\n",
       "2311        0.0            CZK"
      ]
     },
     "execution_count": 12,
     "metadata": {},
     "output_type": "execute_result"
    }
   ],
   "source": [
    "sml.loc[sml.cena_cizi_mena == 'CZK', ['cena_cizi', 'cena_cizi_mena']]"
   ]
  },
  {
   "cell_type": "markdown",
   "metadata": {},
   "source": [
    "**Návrh: 1) Zrušte možnost vyplnit nulovou cenu smlouvy, 2) zrušte možnost vyplnit zahraniční měnu jako 'CZK'**"
   ]
  },
  {
   "cell_type": "markdown",
   "metadata": {},
   "source": [
    "### České ceny"
   ]
  },
  {
   "cell_type": "markdown",
   "metadata": {},
   "source": [
    "**cena - nemame moc symetricky data k s/bez dph**"
   ]
  },
  {
   "cell_type": "markdown",
   "metadata": {},
   "source": [
    "Podívejme se tedy na všechny smlouvy, které nemají uvednou cenu v cizí měně."
   ]
  },
  {
   "cell_type": "code",
   "execution_count": 13,
   "metadata": {
    "collapsed": false
   },
   "outputs": [],
   "source": [
    "ceny = sml.loc[sml.cena_cizi_mena.isin([np.nan, 'CZK'])]"
   ]
  },
  {
   "cell_type": "code",
   "execution_count": 14,
   "metadata": {
    "collapsed": false
   },
   "outputs": [
    {
     "data": {
      "text/html": [
       "<div>\n",
       "<table border=\"1\" class=\"dataframe\">\n",
       "  <thead>\n",
       "    <tr style=\"text-align: right;\">\n",
       "      <th>cena_sdph</th>\n",
       "      <th>False</th>\n",
       "      <th>True</th>\n",
       "    </tr>\n",
       "    <tr>\n",
       "      <th>cena_bezdph</th>\n",
       "      <th></th>\n",
       "      <th></th>\n",
       "    </tr>\n",
       "  </thead>\n",
       "  <tbody>\n",
       "    <tr>\n",
       "      <th>False</th>\n",
       "      <td>574</td>\n",
       "      <td>467</td>\n",
       "    </tr>\n",
       "    <tr>\n",
       "      <th>True</th>\n",
       "      <td>840</td>\n",
       "      <td>371</td>\n",
       "    </tr>\n",
       "  </tbody>\n",
       "</table>\n",
       "</div>"
      ],
      "text/plain": [
       "cena_sdph    False  True \n",
       "cena_bezdph              \n",
       "False          574    467\n",
       "True           840    371"
      ]
     },
     "execution_count": 14,
     "metadata": {},
     "output_type": "execute_result"
    }
   ],
   "source": [
    "pd.crosstab(ceny.cena_bezdph.isnull(), ceny.cena_sdph.isnull())"
   ]
  },
  {
   "cell_type": "markdown",
   "metadata": {},
   "source": [
    "Tahle tabulka říká asi všechno co se týče dostupnosti cen v metadatech. Řádky signalizují počet smluv s cenou bez DPH, sloupce počty smluv s DPH.\n",
    "\n",
    "Takže tady vidíme, že **jen 371 smluv má obě ceny, 1307 smluv (840+467) má právě jednu cenu. A zbytek, 574 smluv nemá žádnou informaci o ceně.**\n",
    "\n",
    "Nejde bohužel říct, že krom těch 574 smluv je vše v pořádku. Není to tak jednoduché. Když má člověk právě jednu cenu - ať už s nebo bez DPH, nemůže celý dataset konzistentně agregovat.\n",
    "\n",
    "Též nejde říct, že všech 574 smluv bez cen neplatných (TODO: přidej komentáře o začerňování, Budvaru atp.)"
   ]
  },
  {
   "cell_type": "markdown",
   "metadata": {},
   "source": [
    "Primitivní agregace by naznačovala, že celková hodnota smluv je zatím přes 2.5 miliardy. (Neberte to číslo přesně, je tam aproximace kvůli chybějícím datům, viz výše.)"
   ]
  },
  {
   "cell_type": "code",
   "execution_count": 15,
   "metadata": {
    "collapsed": false,
    "scrolled": true
   },
   "outputs": [
    {
     "data": {
      "text/plain": [
       "2.65890023563"
      ]
     },
     "execution_count": 15,
     "metadata": {},
     "output_type": "execute_result"
    }
   ],
   "source": [
    "ceny[['cena_bezdph', 'cena_sdph']].mean(axis=1).sum()/10**9"
   ]
  },
  {
   "cell_type": "markdown",
   "metadata": {},
   "source": [
    "**Návrh: když je zadaná cena smlouvy bez nebo s DPH, vynuťte, aby byla zadaná i druhá cena.**"
   ]
  },
  {
   "cell_type": "markdown",
   "metadata": {},
   "source": [
    "### Kdo neuvádí ceny\n",
    "Je celkem jednoduché podívat se, kdo že to neuvádí ceny. Může to být legitimní důvod (legislativní výjimka, u Budvaru), může jít o obfuskaci."
   ]
  },
  {
   "cell_type": "code",
   "execution_count": 16,
   "metadata": {
    "collapsed": false
   },
   "outputs": [],
   "source": [
    "# sml.loc[sml.cena_bezdph.isnull() & sml.cena_sdph.isnull()].\\\n",
    "# groupby(['ico', 'subjekt']).count()"
   ]
  },
  {
   "cell_type": "code",
   "execution_count": 17,
   "metadata": {
    "collapsed": false
   },
   "outputs": [],
   "source": [
    "uni = pd.DataFrame(index=sml.ico.unique(), columns = ['subjekt', 'smluv', 'bezcen'])\n",
    "\n",
    "for ic in sml.ico.unique():\n",
    "    nz = sml.loc[sml.ico == ic].subjekt.iloc[0]\n",
    "    n = len(sml.loc[sml.ico == ic, :])\n",
    "    bc = sml.loc[sml.ico == ic, ['cena_bezdph', 'cena_sdph']].isnull().all(axis=1).sum()\n",
    "\n",
    "    uni.loc[ic] = [nz, n, bc]\n",
    "\n",
    "# uni.sort_values(by='smluv', ascending=False).to_csv('bezcen.csv', encoding='utf8')\n",
    "\n",
    "assert len(uni) == len(sml.ico.unique())"
   ]
  },
  {
   "cell_type": "code",
   "execution_count": 18,
   "metadata": {
    "collapsed": false
   },
   "outputs": [
    {
     "data": {
      "text/html": [
       "<div>\n",
       "<table border=\"1\" class=\"dataframe\">\n",
       "  <thead>\n",
       "    <tr style=\"text-align: right;\">\n",
       "      <th></th>\n",
       "      <th>subjekt</th>\n",
       "      <th>smluv</th>\n",
       "      <th>bezcen</th>\n",
       "    </tr>\n",
       "  </thead>\n",
       "  <tbody>\n",
       "    <tr>\n",
       "      <th>70890749</th>\n",
       "      <td>KruV - RS (Kraj Vysočina)</td>\n",
       "      <td>244</td>\n",
       "      <td>4</td>\n",
       "    </tr>\n",
       "    <tr>\n",
       "      <th>60162694</th>\n",
       "      <td>Fakturace (Ministerstvo obrany)</td>\n",
       "      <td>216</td>\n",
       "      <td>15</td>\n",
       "    </tr>\n",
       "    <tr>\n",
       "      <th>70891508</th>\n",
       "      <td>Liberecký kraj</td>\n",
       "      <td>154</td>\n",
       "      <td>1</td>\n",
       "    </tr>\n",
       "    <tr>\n",
       "      <th>60609460</th>\n",
       "      <td>Olomoucký kraj</td>\n",
       "      <td>108</td>\n",
       "      <td>0</td>\n",
       "    </tr>\n",
       "    <tr>\n",
       "      <th>64190</th>\n",
       "      <td>Thomayerova nemocnice</td>\n",
       "      <td>71</td>\n",
       "      <td>51</td>\n",
       "    </tr>\n",
       "    <tr>\n",
       "      <th>70890692</th>\n",
       "      <td>MSK registr smluv (Moravskoslezský kraj)</td>\n",
       "      <td>69</td>\n",
       "      <td>7</td>\n",
       "    </tr>\n",
       "    <tr>\n",
       "      <th>209805</th>\n",
       "      <td>Masarykův onkologický ústav</td>\n",
       "      <td>56</td>\n",
       "      <td>0</td>\n",
       "    </tr>\n",
       "    <tr>\n",
       "      <th>47443936</th>\n",
       "      <td>Základní škola Třebíč, Cyrilometodějská 22</td>\n",
       "      <td>52</td>\n",
       "      <td>27</td>\n",
       "    </tr>\n",
       "    <tr>\n",
       "      <th>64581</th>\n",
       "      <td>Hlavní město Praha</td>\n",
       "      <td>33</td>\n",
       "      <td>10</td>\n",
       "    </tr>\n",
       "    <tr>\n",
       "      <th>65269705</th>\n",
       "      <td>Fakultní nemocnice Brno</td>\n",
       "      <td>30</td>\n",
       "      <td>4</td>\n",
       "    </tr>\n",
       "  </tbody>\n",
       "</table>\n",
       "</div>"
      ],
      "text/plain": [
       "                                             subjekt smluv bezcen\n",
       "70890749                   KruV - RS (Kraj Vysočina)   244      4\n",
       "60162694             Fakturace (Ministerstvo obrany)   216     15\n",
       "70891508                              Liberecký kraj   154      1\n",
       "60609460                              Olomoucký kraj   108      0\n",
       "64190                          Thomayerova nemocnice    71     51\n",
       "70890692    MSK registr smluv (Moravskoslezský kraj)    69      7\n",
       "209805                   Masarykův onkologický ústav    56      0\n",
       "47443936  Základní škola Třebíč, Cyrilometodějská 22    52     27\n",
       "64581                             Hlavní město Praha    33     10\n",
       "65269705                     Fakultní nemocnice Brno    30      4"
      ]
     },
     "execution_count": 18,
     "metadata": {},
     "output_type": "execute_result"
    }
   ],
   "source": [
    "uni.sort_values(by='smluv', ascending=False).head(10)"
   ]
  },
  {
   "cell_type": "markdown",
   "metadata": {},
   "source": [
    "Takže nějaké instituce mají čistý štít, ale třeba Thomayerka u nás doma v Krči má většinu smluv bez cen. To může být u zdravotnického materiálu možná i pochopitelné. (Nevysvětluje to ale proč nemocnice v Brně nefunguje podobně.)"
   ]
  },
  {
   "cell_type": "markdown",
   "metadata": {},
   "source": [
    "## Smluvní strany"
   ]
  },
  {
   "cell_type": "markdown",
   "metadata": {},
   "source": [
    "Máme tedy x smluv, čekali bychom tedy alespoň x společností na druhé straně smlouvy"
   ]
  },
  {
   "cell_type": "code",
   "execution_count": 19,
   "metadata": {
    "collapsed": false
   },
   "outputs": [
    {
     "name": "stdout",
     "output_type": "stream",
     "text": [
      "2257 2240\n"
     ]
    }
   ],
   "source": [
    "print(len(sml), len(sstr))"
   ]
  },
  {
   "cell_type": "markdown",
   "metadata": {},
   "source": [
    "Máme jich ale naopak o pár míň. A to protože **69 smluv nemá žádné smluvní strany**. To je možné, protože registr nejspíš vynucuje alespoň jednu smluvní stranu, ale spousta zadavatelů mezi smluvní strany počítá i samotného objednavatele. Proto je spousta smluv bez smluvní strany.\n",
    "\n",
    "**Návrh: Vynuťte, aby u smlouvy byla zadaná alespoň jedna smluvní strana s IČO rozdílným od objednatele.**"
   ]
  },
  {
   "cell_type": "code",
   "execution_count": 20,
   "metadata": {
    "collapsed": false
   },
   "outputs": [
    {
     "data": {
      "text/plain": [
       "69"
      ]
     },
     "execution_count": 20,
     "metadata": {},
     "output_type": "execute_result"
    }
   ],
   "source": [
    "ustr = set(sstr.idsml.tolist())\n",
    "\n",
    "sml.idsml.apply(lambda x: x not in ustr).sum()"
   ]
  },
  {
   "cell_type": "markdown",
   "metadata": {},
   "source": [
    "### Chybí IČO\n",
    "IČO je celkem jednoduchý způsob jak napárovat data na jiné systémy (např. ARES). Proto je problém, že spousta smluvních stran nemá uvedené IČO."
   ]
  },
  {
   "cell_type": "code",
   "execution_count": 21,
   "metadata": {
    "collapsed": false
   },
   "outputs": [
    {
     "data": {
      "text/plain": [
       "16.071428571428573"
      ]
     },
     "execution_count": 21,
     "metadata": {},
     "output_type": "execute_result"
    }
   ],
   "source": [
    "100 * sstr.ico.isnull().sum() / len(sstr)"
   ]
  },
  {
   "cell_type": "markdown",
   "metadata": {},
   "source": [
    "**Každá šestá smluvní strana, 16 %, nemá uvedené IČO.**"
   ]
  },
  {
   "cell_type": "markdown",
   "metadata": {},
   "source": [
    "Co to v reálu způsobuje? Když se podíváme na smlouvy se smluvními stranami bez uvedeného IČO, můžeme spočítat, jakou mají hodnotu."
   ]
  },
  {
   "cell_type": "code",
   "execution_count": 22,
   "metadata": {
    "collapsed": false
   },
   "outputs": [
    {
     "data": {
      "text/plain": [
       "(346, 12)"
      ]
     },
     "execution_count": 22,
     "metadata": {},
     "output_type": "execute_result"
    }
   ],
   "source": [
    "bezic = sml.loc[sml['idsml'].isin(sstr.loc[sstr.ico.isnull(), 'idsml'].values), :]\n",
    "bezic.shape"
   ]
  },
  {
   "cell_type": "code",
   "execution_count": 23,
   "metadata": {
    "collapsed": false
   },
   "outputs": [
    {
     "data": {
      "text/plain": [
       "84.292314605000001"
      ]
     },
     "execution_count": 23,
     "metadata": {},
     "output_type": "execute_result"
    }
   ],
   "source": [
    "bezic[['cena_bezdph', 'cena_sdph']].mean(axis=1).sum()/10**6"
   ]
  },
  {
   "cell_type": "markdown",
   "metadata": {},
   "source": [
    "Jde tedy o 84 milionů (v kontextu 2.5 miliard). Přeberte si sami, jak významný je to problém."
   ]
  },
  {
   "cell_type": "markdown",
   "metadata": {},
   "source": [
    "**Návrh: Vynuťte uvádění identifikačního čísla smluvní strany s možností opt outu (pro soukromníky bez IČO/DIČ).**"
   ]
  },
  {
   "cell_type": "markdown",
   "metadata": {},
   "source": [
    "### Názvy smluvní stran\n",
    "Někdo by mohl navrhnout, že místo IČO bych mohl použít názvy smluvních stran. S tím jsou ale dva problémy.\n",
    "\n",
    "1. Názvy nejsou unikátní, třeba Kotěhůlky asi jsou, ale Obec Lhota, těch je několik.\n",
    "2. Názvy nejsou konstantní v čase. Firmy se přejmenovávají, lidi dělají překlepy atd. Např. Sodexo, prodejce stravenek, je na spoustě smluv jako Sodexho, i když se tak už spoustu let nejmenuje."
   ]
  },
  {
   "cell_type": "code",
   "execution_count": 24,
   "metadata": {
    "collapsed": false,
    "scrolled": true
   },
   "outputs": [],
   "source": [
    "# sstr.loc[sstr.subjekt.str.contains('Sodexho') | sstr.subjekt.str.contains('Sodexo')]"
   ]
  },
  {
   "cell_type": "markdown",
   "metadata": {},
   "source": [
    "### Grafíky"
   ]
  },
  {
   "cell_type": "code",
   "execution_count": 25,
   "metadata": {
    "collapsed": false
   },
   "outputs": [
    {
     "data": {
      "text/plain": [
       "<matplotlib.axes._subplots.AxesSubplot at 0x1090476a0>"
      ]
     },
     "execution_count": 25,
     "metadata": {},
     "output_type": "execute_result"
    },
    {
     "data": {
      "image/png": "[encoded data removed]",
      "text/plain": [
       "<matplotlib.figure.Figure at 0x109047eb8>"
      ]
     },
     "metadata": {},
     "output_type": "display_data"
    }
   ],
   "source": [
    "sml.zverejneni.apply(lambda x: x.strftime('%m-%d')).\\\n",
    "value_counts().sort_index().plot(kind='bar', figsize=(15,10), fontsize=15)"
   ]
  },
  {
   "cell_type": "code",
   "execution_count": 26,
   "metadata": {
    "collapsed": false
   },
   "outputs": [
    {
     "data": {
      "text/plain": [
       "<matplotlib.axes._subplots.AxesSubplot at 0x10b58a8d0>"
      ]
     },
     "execution_count": 26,
     "metadata": {},
     "output_type": "execute_result"
    },
    {
     "data": {
      "image/png": "[encoded data removed]",
      "text/plain": [
       "<matplotlib.figure.Figure at 0x10adba9b0>"
      ]
     },
     "metadata": {},
     "output_type": "display_data"
    }
   ],
   "source": [
    "sml.zverejneni.apply(lambda x: x.strftime('%m-%d-%Y')).value_counts().\\\n",
    "sort_index().cumsum().plot()"
   ]
  },
  {
   "cell_type": "markdown",
   "metadata": {
    "collapsed": true
   },
   "source": [
    "### Implicitní DPH\n",
    "Máme-li hodnoty bez a s DPH, můžeme spočítat implicitní sazbu DPH. V následující tabulce je sazba a pak počet smluv s tou sazbou."
   ]
  },
  {
   "cell_type": "code",
   "execution_count": 27,
   "metadata": {
    "collapsed": false
   },
   "outputs": [
    {
     "data": {
      "text/plain": [
       " 21.00        344\n",
       " 0.00         138\n",
       " 15.00         23\n",
       " 10.00         18\n",
       "-9.09          14\n",
       " 21.01          4\n",
       " 26.58          2\n",
       " 20.84          2\n",
       "-88.52          1\n",
       "-87.33          1\n",
       " 29.41          1\n",
       " 23.59          1\n",
       " 22.51          1\n",
       " 20.88          1\n",
       " 120900.00      1\n",
       " 19.82          1\n",
       " 18.58          1\n",
       "-85.00          1\n",
       " 14.99          1\n",
       " 0.04           1\n",
       " 3.03           1\n",
       " 31.44          1\n",
       " 1110.00        1\n",
       " 0.37           1\n",
       " 10.04          1\n",
       " 120.98         1\n",
       "-79.00          1\n",
       " 19.65          1\n",
       " 22.22          1\n",
       " 0.88           1\n",
       " 19.00          1\n",
       " 20.27          1\n",
       " 0.12           1\n",
       " 20.00          1\n",
       " 0.47           1\n",
       " 10.06          1\n",
       " 0.19           1\n",
       "dtype: int64"
      ]
     },
     "execution_count": 27,
     "metadata": {},
     "output_type": "execute_result"
    }
   ],
   "source": [
    "(100*((sml.cena_sdph / sml.cena_bezdph)-1)).dropna().round(2).value_counts()"
   ]
  },
  {
   "cell_type": "markdown",
   "metadata": {},
   "source": [
    "Sazby 21 %, 15, 10, 0 nebo 20 jde docela dobře vysvětlit. Zbytek bude trochu těžší. Ono i nekulaté sazby jdou vysvětlit, třeba u rámcové smlouvy, kde různé položky mají ruzné sazby. Můžeme se ale podívat na trochu extrémnější sazby. Třeba ty záporné."
   ]
  },
  {
   "cell_type": "code",
   "execution_count": 28,
   "metadata": {
    "collapsed": false
   },
   "outputs": [
    {
     "data": {
      "text/plain": [
       "18"
      ]
     },
     "execution_count": 28,
     "metadata": {},
     "output_type": "execute_result"
    }
   ],
   "source": [
    "(sml.cena_sdph < sml.cena_bezdph).sum()"
   ]
  },
  {
   "cell_type": "markdown",
   "metadata": {},
   "source": [
    "18 smluv má cenu s DPH nižší než bez DPH, to je očividně problém. Někde třeba ukládají jen onu daň do položky ceny s DPH.\n",
    "\n",
    "**Návrh: Vynuťte, aby cena s DPH byla alespoň tak vysoká jako cena bez DPH**"
   ]
  },
  {
   "cell_type": "code",
   "execution_count": 29,
   "metadata": {
    "collapsed": false
   },
   "outputs": [
    {
     "data": {
      "text/plain": [
       "105"
      ]
     },
     "execution_count": 29,
     "metadata": {},
     "output_type": "execute_result"
    }
   ],
   "source": [
    "((sml.cena_sdph / sml.cena_bezdph - 1) > .21).sum()"
   ]
  },
  {
   "cell_type": "markdown",
   "metadata": {},
   "source": [
    "105 smluv pak má sazbu vyšší než 21 % (což moc nejde). Důvodů může být spousta.\n",
    "\n",
    "**Návrh: Ukažte vkladateli implicitní hodnotu DPH. Třeba si sám uvědomí, že jde o chybu.**"
   ]
  },
  {
   "cell_type": "markdown",
   "metadata": {},
   "source": [
    "### Záporné ceny\n",
    "Občas jsou uvedeny záporné ceny, co to asi tak mohlo být."
   ]
  },
  {
   "cell_type": "code",
   "execution_count": 30,
   "metadata": {
    "collapsed": false
   },
   "outputs": [
    {
     "data": {
      "text/html": [
       "<div>\n",
       "<table border=\"1\" class=\"dataframe\">\n",
       "  <thead>\n",
       "    <tr style=\"text-align: right;\">\n",
       "      <th></th>\n",
       "      <th>idsml</th>\n",
       "      <th>idver</th>\n",
       "      <th>zverejneni</th>\n",
       "      <th>uzavreni</th>\n",
       "      <th>subjekt</th>\n",
       "      <th>ico</th>\n",
       "      <th>cena_bezdph</th>\n",
       "      <th>cena_sdph</th>\n",
       "      <th>cena_cizi</th>\n",
       "      <th>cena_cizi_mena</th>\n",
       "      <th>predmet</th>\n",
       "      <th>odkaz</th>\n",
       "    </tr>\n",
       "  </thead>\n",
       "  <tbody>\n",
       "    <tr>\n",
       "      <th>730</th>\n",
       "      <td>3165</td>\n",
       "      <td>3285</td>\n",
       "      <td>2016-07-12 08:22:57</td>\n",
       "      <td>2012-10-12</td>\n",
       "      <td>Vyšší policejní škola a Střední policejní škol...</td>\n",
       "      <td>48135453</td>\n",
       "      <td>NaN</td>\n",
       "      <td>-1.24</td>\n",
       "      <td>NaN</td>\n",
       "      <td>NaN</td>\n",
       "      <td>Pha 9,Pod Táborem-nápoj.automaty_02</td>\n",
       "      <td>https://smlouvy.gov.cz/smlouva/3285</td>\n",
       "    </tr>\n",
       "    <tr>\n",
       "      <th>1339</th>\n",
       "      <td>5737</td>\n",
       "      <td>5881</td>\n",
       "      <td>2016-07-13 15:02:06</td>\n",
       "      <td>2016-07-13</td>\n",
       "      <td>Město Lysá nad Labem</td>\n",
       "      <td>239402</td>\n",
       "      <td>NaN</td>\n",
       "      <td>-652190.00</td>\n",
       "      <td>NaN</td>\n",
       "      <td>NaN</td>\n",
       "      <td>Dodávka modulární dráhy pumptrack v Lysé nad L...</td>\n",
       "      <td>https://smlouvy.gov.cz/smlouva/5881</td>\n",
       "    </tr>\n",
       "    <tr>\n",
       "      <th>1346</th>\n",
       "      <td>5769</td>\n",
       "      <td>5913</td>\n",
       "      <td>2016-07-13 15:18:12</td>\n",
       "      <td>2016-07-14</td>\n",
       "      <td>Město Lysá nad Labem</td>\n",
       "      <td>239402</td>\n",
       "      <td>NaN</td>\n",
       "      <td>-477950.00</td>\n",
       "      <td>NaN</td>\n",
       "      <td>NaN</td>\n",
       "      <td>PD komunitní centrum č.p. 13</td>\n",
       "      <td>https://smlouvy.gov.cz/smlouva/5913</td>\n",
       "    </tr>\n",
       "  </tbody>\n",
       "</table>\n",
       "</div>"
      ],
      "text/plain": [
       "      idsml  idver          zverejneni   uzavreni  \\\n",
       "730    3165   3285 2016-07-12 08:22:57 2012-10-12   \n",
       "1339   5737   5881 2016-07-13 15:02:06 2016-07-13   \n",
       "1346   5769   5913 2016-07-13 15:18:12 2016-07-14   \n",
       "\n",
       "                                                subjekt       ico  \\\n",
       "730   Vyšší policejní škola a Střední policejní škol...  48135453   \n",
       "1339                               Město Lysá nad Labem    239402   \n",
       "1346                               Město Lysá nad Labem    239402   \n",
       "\n",
       "      cena_bezdph  cena_sdph  cena_cizi cena_cizi_mena  \\\n",
       "730           NaN      -1.24        NaN            NaN   \n",
       "1339          NaN -652190.00        NaN            NaN   \n",
       "1346          NaN -477950.00        NaN            NaN   \n",
       "\n",
       "                                                predmet  \\\n",
       "730                 Pha 9,Pod Táborem-nápoj.automaty_02   \n",
       "1339  Dodávka modulární dráhy pumptrack v Lysé nad L...   \n",
       "1346                       PD komunitní centrum č.p. 13   \n",
       "\n",
       "                                    odkaz  \n",
       "730   https://smlouvy.gov.cz/smlouva/3285  \n",
       "1339  https://smlouvy.gov.cz/smlouva/5881  \n",
       "1346  https://smlouvy.gov.cz/smlouva/5913  "
      ]
     },
     "execution_count": 30,
     "metadata": {},
     "output_type": "execute_result"
    }
   ],
   "source": [
    "sml.loc[(sml.cena_bezdph < 0) | (sml.cena_sdph < 0)]"
   ]
  },
  {
   "cell_type": "markdown",
   "metadata": {},
   "source": [
    "**Návrh: Vynuťte pozitivní hodnotu pro jakoukoliv z cen**"
   ]
  },
  {
   "cell_type": "code",
   "execution_count": null,
   "metadata": {
    "collapsed": true
   },
   "outputs": [],
   "source": []
  },
  {
   "cell_type": "code",
   "execution_count": null,
   "metadata": {
    "collapsed": true
   },
   "outputs": [],
   "source": []
  },
  {
   "cell_type": "code",
   "execution_count": null,
   "metadata": {
    "collapsed": true
   },
   "outputs": [],
   "source": []
  }
 ],
 "metadata": {
  "kernelspec": {
   "display_name": "Python 3",
   "language": "python",
   "name": "python3"
  },
  "language_info": {
   "codemirror_mode": {
    "name": "ipython",
    "version": 3
   },
   "file_extension": ".py",
   "mimetype": "text/x-python",
   "name": "python",
   "nbconvert_exporter": "python",
   "pygments_lexer": "ipython3",
   "version": "3.5.2"
  },
  "widgets": {
   "state": {},
   "version": "1.1.2"
  }
 },
 "nbformat": 4,
 "nbformat_minor": 0
}
